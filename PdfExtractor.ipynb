{
 "cells": [
  {
   "cell_type": "code",
   "execution_count": 1,
   "metadata": {},
   "outputs": [
    {
     "name": "stdout",
     "output_type": "stream",
     "text": [
      "Requirement already satisfied: langchain in c:\\users\\anuar musa\\appdata\\local\\programs\\python\\python312\\lib\\site-packages (0.2.15)\n",
      "Requirement already satisfied: PyYAML>=5.3 in c:\\users\\anuar musa\\appdata\\local\\programs\\python\\python312\\lib\\site-packages (from langchain) (6.0.2)\n",
      "Requirement already satisfied: SQLAlchemy<3,>=1.4 in c:\\users\\anuar musa\\appdata\\local\\programs\\python\\python312\\lib\\site-packages (from langchain) (2.0.32)\n",
      "Requirement already satisfied: aiohttp<4.0.0,>=3.8.3 in c:\\users\\anuar musa\\appdata\\local\\programs\\python\\python312\\lib\\site-packages (from langchain) (3.10.5)\n",
      "Requirement already satisfied: langchain-core<0.3.0,>=0.2.35 in c:\\users\\anuar musa\\appdata\\local\\programs\\python\\python312\\lib\\site-packages (from langchain) (0.2.37)\n",
      "Requirement already satisfied: langchain-text-splitters<0.3.0,>=0.2.0 in c:\\users\\anuar musa\\appdata\\local\\programs\\python\\python312\\lib\\site-packages (from langchain) (0.2.2)\n",
      "Requirement already satisfied: langsmith<0.2.0,>=0.1.17 in c:\\users\\anuar musa\\appdata\\local\\programs\\python\\python312\\lib\\site-packages (from langchain) (0.1.108)\n",
      "Requirement already satisfied: numpy<2.0.0,>=1.26.0 in c:\\users\\anuar musa\\appdata\\local\\programs\\python\\python312\\lib\\site-packages (from langchain) (1.26.4)\n",
      "Requirement already satisfied: pydantic<3,>=1 in c:\\users\\anuar musa\\appdata\\local\\programs\\python\\python312\\lib\\site-packages (from langchain) (2.8.2)\n",
      "Requirement already satisfied: requests<3,>=2 in c:\\users\\anuar musa\\appdata\\local\\programs\\python\\python312\\lib\\site-packages (from langchain) (2.32.3)\n",
      "Requirement already satisfied: tenacity!=8.4.0,<9.0.0,>=8.1.0 in c:\\users\\anuar musa\\appdata\\local\\programs\\python\\python312\\lib\\site-packages (from langchain) (8.5.0)\n",
      "Requirement already satisfied: aiohappyeyeballs>=2.3.0 in c:\\users\\anuar musa\\appdata\\local\\programs\\python\\python312\\lib\\site-packages (from aiohttp<4.0.0,>=3.8.3->langchain) (2.4.0)\n",
      "Requirement already satisfied: aiosignal>=1.1.2 in c:\\users\\anuar musa\\appdata\\local\\programs\\python\\python312\\lib\\site-packages (from aiohttp<4.0.0,>=3.8.3->langchain) (1.3.1)\n",
      "Requirement already satisfied: attrs>=17.3.0 in c:\\users\\anuar musa\\appdata\\local\\programs\\python\\python312\\lib\\site-packages (from aiohttp<4.0.0,>=3.8.3->langchain) (24.2.0)\n",
      "Requirement already satisfied: frozenlist>=1.1.1 in c:\\users\\anuar musa\\appdata\\local\\programs\\python\\python312\\lib\\site-packages (from aiohttp<4.0.0,>=3.8.3->langchain) (1.4.1)\n",
      "Requirement already satisfied: multidict<7.0,>=4.5 in c:\\users\\anuar musa\\appdata\\local\\programs\\python\\python312\\lib\\site-packages (from aiohttp<4.0.0,>=3.8.3->langchain) (6.0.5)\n",
      "Requirement already satisfied: yarl<2.0,>=1.0 in c:\\users\\anuar musa\\appdata\\local\\programs\\python\\python312\\lib\\site-packages (from aiohttp<4.0.0,>=3.8.3->langchain) (1.9.7)\n",
      "Requirement already satisfied: jsonpatch<2.0,>=1.33 in c:\\users\\anuar musa\\appdata\\local\\programs\\python\\python312\\lib\\site-packages (from langchain-core<0.3.0,>=0.2.35->langchain) (1.33)\n",
      "Requirement already satisfied: packaging<25,>=23.2 in c:\\users\\anuar musa\\appdata\\local\\programs\\python\\python312\\lib\\site-packages (from langchain-core<0.3.0,>=0.2.35->langchain) (24.1)\n",
      "Requirement already satisfied: typing-extensions>=4.7 in c:\\users\\anuar musa\\appdata\\local\\programs\\python\\python312\\lib\\site-packages (from langchain-core<0.3.0,>=0.2.35->langchain) (4.12.2)\n",
      "Requirement already satisfied: httpx<1,>=0.23.0 in c:\\users\\anuar musa\\appdata\\local\\programs\\python\\python312\\lib\\site-packages (from langsmith<0.2.0,>=0.1.17->langchain) (0.27.2)\n",
      "Requirement already satisfied: orjson<4.0.0,>=3.9.14 in c:\\users\\anuar musa\\appdata\\local\\programs\\python\\python312\\lib\\site-packages (from langsmith<0.2.0,>=0.1.17->langchain) (3.10.7)\n",
      "Requirement already satisfied: annotated-types>=0.4.0 in c:\\users\\anuar musa\\appdata\\local\\programs\\python\\python312\\lib\\site-packages (from pydantic<3,>=1->langchain) (0.7.0)\n",
      "Requirement already satisfied: pydantic-core==2.20.1 in c:\\users\\anuar musa\\appdata\\local\\programs\\python\\python312\\lib\\site-packages (from pydantic<3,>=1->langchain) (2.20.1)\n",
      "Requirement already satisfied: charset-normalizer<4,>=2 in c:\\users\\anuar musa\\appdata\\local\\programs\\python\\python312\\lib\\site-packages (from requests<3,>=2->langchain) (3.3.2)\n",
      "Requirement already satisfied: idna<4,>=2.5 in c:\\users\\anuar musa\\appdata\\local\\programs\\python\\python312\\lib\\site-packages (from requests<3,>=2->langchain) (3.8)\n",
      "Requirement already satisfied: urllib3<3,>=1.21.1 in c:\\users\\anuar musa\\appdata\\local\\programs\\python\\python312\\lib\\site-packages (from requests<3,>=2->langchain) (2.2.2)\n",
      "Requirement already satisfied: certifi>=2017.4.17 in c:\\users\\anuar musa\\appdata\\local\\programs\\python\\python312\\lib\\site-packages (from requests<3,>=2->langchain) (2024.8.30)\n",
      "Requirement already satisfied: greenlet!=0.4.17 in c:\\users\\anuar musa\\appdata\\local\\programs\\python\\python312\\lib\\site-packages (from SQLAlchemy<3,>=1.4->langchain) (3.0.3)\n",
      "Requirement already satisfied: anyio in c:\\users\\anuar musa\\appdata\\local\\programs\\python\\python312\\lib\\site-packages (from httpx<1,>=0.23.0->langsmith<0.2.0,>=0.1.17->langchain) (4.4.0)\n",
      "Requirement already satisfied: httpcore==1.* in c:\\users\\anuar musa\\appdata\\local\\programs\\python\\python312\\lib\\site-packages (from httpx<1,>=0.23.0->langsmith<0.2.0,>=0.1.17->langchain) (1.0.5)\n",
      "Requirement already satisfied: sniffio in c:\\users\\anuar musa\\appdata\\local\\programs\\python\\python312\\lib\\site-packages (from httpx<1,>=0.23.0->langsmith<0.2.0,>=0.1.17->langchain) (1.3.1)\n",
      "Requirement already satisfied: h11<0.15,>=0.13 in c:\\users\\anuar musa\\appdata\\local\\programs\\python\\python312\\lib\\site-packages (from httpcore==1.*->httpx<1,>=0.23.0->langsmith<0.2.0,>=0.1.17->langchain) (0.14.0)\n",
      "Requirement already satisfied: jsonpointer>=1.9 in c:\\users\\anuar musa\\appdata\\local\\programs\\python\\python312\\lib\\site-packages (from jsonpatch<2.0,>=1.33->langchain-core<0.3.0,>=0.2.35->langchain) (3.0.0)\n",
      "Requirement already satisfied: openai in c:\\users\\anuar musa\\appdata\\local\\programs\\python\\python312\\lib\\site-packages (1.43.0)\n",
      "Requirement already satisfied: anyio<5,>=3.5.0 in c:\\users\\anuar musa\\appdata\\local\\programs\\python\\python312\\lib\\site-packages (from openai) (4.4.0)\n",
      "Requirement already satisfied: distro<2,>=1.7.0 in c:\\users\\anuar musa\\appdata\\local\\programs\\python\\python312\\lib\\site-packages (from openai) (1.9.0)\n",
      "Requirement already satisfied: httpx<1,>=0.23.0 in c:\\users\\anuar musa\\appdata\\local\\programs\\python\\python312\\lib\\site-packages (from openai) (0.27.2)\n",
      "Requirement already satisfied: jiter<1,>=0.4.0 in c:\\users\\anuar musa\\appdata\\local\\programs\\python\\python312\\lib\\site-packages (from openai) (0.5.0)\n",
      "Requirement already satisfied: pydantic<3,>=1.9.0 in c:\\users\\anuar musa\\appdata\\local\\programs\\python\\python312\\lib\\site-packages (from openai) (2.8.2)\n",
      "Requirement already satisfied: sniffio in c:\\users\\anuar musa\\appdata\\local\\programs\\python\\python312\\lib\\site-packages (from openai) (1.3.1)\n",
      "Requirement already satisfied: tqdm>4 in c:\\users\\anuar musa\\appdata\\local\\programs\\python\\python312\\lib\\site-packages (from openai) (4.66.5)\n",
      "Requirement already satisfied: typing-extensions<5,>=4.11 in c:\\users\\anuar musa\\appdata\\local\\programs\\python\\python312\\lib\\site-packages (from openai) (4.12.2)\n",
      "Requirement already satisfied: idna>=2.8 in c:\\users\\anuar musa\\appdata\\local\\programs\\python\\python312\\lib\\site-packages (from anyio<5,>=3.5.0->openai) (3.8)\n",
      "Requirement already satisfied: certifi in c:\\users\\anuar musa\\appdata\\local\\programs\\python\\python312\\lib\\site-packages (from httpx<1,>=0.23.0->openai) (2024.8.30)\n",
      "Requirement already satisfied: httpcore==1.* in c:\\users\\anuar musa\\appdata\\local\\programs\\python\\python312\\lib\\site-packages (from httpx<1,>=0.23.0->openai) (1.0.5)\n",
      "Requirement already satisfied: h11<0.15,>=0.13 in c:\\users\\anuar musa\\appdata\\local\\programs\\python\\python312\\lib\\site-packages (from httpcore==1.*->httpx<1,>=0.23.0->openai) (0.14.0)\n",
      "Requirement already satisfied: annotated-types>=0.4.0 in c:\\users\\anuar musa\\appdata\\local\\programs\\python\\python312\\lib\\site-packages (from pydantic<3,>=1.9.0->openai) (0.7.0)\n",
      "Requirement already satisfied: pydantic-core==2.20.1 in c:\\users\\anuar musa\\appdata\\local\\programs\\python\\python312\\lib\\site-packages (from pydantic<3,>=1.9.0->openai) (2.20.1)\n",
      "Requirement already satisfied: colorama in c:\\users\\anuar musa\\appdata\\local\\programs\\python\\python312\\lib\\site-packages (from tqdm>4->openai) (0.4.6)\n",
      "Requirement already satisfied: PyPDF2 in c:\\users\\anuar musa\\appdata\\local\\programs\\python\\python312\\lib\\site-packages (3.0.1)\n",
      "Requirement already satisfied: faiss-cpu in c:\\users\\anuar musa\\appdata\\local\\programs\\python\\python312\\lib\\site-packages (1.8.0.post1)\n",
      "Requirement already satisfied: numpy<2.0,>=1.0 in c:\\users\\anuar musa\\appdata\\local\\programs\\python\\python312\\lib\\site-packages (from faiss-cpu) (1.26.4)\n",
      "Requirement already satisfied: packaging in c:\\users\\anuar musa\\appdata\\local\\programs\\python\\python312\\lib\\site-packages (from faiss-cpu) (24.1)\n",
      "Requirement already satisfied: tiktoken in c:\\users\\anuar musa\\appdata\\local\\programs\\python\\python312\\lib\\site-packages (0.7.0)\n",
      "Requirement already satisfied: regex>=2022.1.18 in c:\\users\\anuar musa\\appdata\\local\\programs\\python\\python312\\lib\\site-packages (from tiktoken) (2024.7.24)\n",
      "Requirement already satisfied: requests>=2.26.0 in c:\\users\\anuar musa\\appdata\\local\\programs\\python\\python312\\lib\\site-packages (from tiktoken) (2.32.3)\n",
      "Requirement already satisfied: charset-normalizer<4,>=2 in c:\\users\\anuar musa\\appdata\\local\\programs\\python\\python312\\lib\\site-packages (from requests>=2.26.0->tiktoken) (3.3.2)\n",
      "Requirement already satisfied: idna<4,>=2.5 in c:\\users\\anuar musa\\appdata\\local\\programs\\python\\python312\\lib\\site-packages (from requests>=2.26.0->tiktoken) (3.8)\n",
      "Requirement already satisfied: urllib3<3,>=1.21.1 in c:\\users\\anuar musa\\appdata\\local\\programs\\python\\python312\\lib\\site-packages (from requests>=2.26.0->tiktoken) (2.2.2)\n",
      "Requirement already satisfied: certifi>=2017.4.17 in c:\\users\\anuar musa\\appdata\\local\\programs\\python\\python312\\lib\\site-packages (from requests>=2.26.0->tiktoken) (2024.8.30)\n"
     ]
    }
   ],
   "source": [
    "!pip install langchain\n",
    "!pip install openai\n",
    "!pip install PyPDF2\n",
    "!pip install faiss-cpu\n",
    "!pip install tiktoken"
   ]
  },
  {
   "cell_type": "code",
   "execution_count": 2,
   "metadata": {},
   "outputs": [],
   "source": [
    "from PyPDF2 import PdfReader\n",
    "from langchain.text_splitter import CharacterTextSplitter"
   ]
  },
  {
   "cell_type": "code",
   "execution_count": 3,
   "metadata": {},
   "outputs": [],
   "source": [
    "#environment variables\n",
    "import os \n",
    "from dotenv import load_dotenv\n",
    "load_dotenv()\n",
    "\n",
    "os.environ[\"OPENAI_API_KEY\"]=os.getenv(\"OPENAI_API_KEY\")\n",
    "## Langmith tracking\n",
    "os.environ[\"LANGCHAIN_TRACING_V2\"]=\"true\"\n",
    "os.environ[\"LANGCHAIN_API_KEY\"]=os.getenv(\"LANGCHAIN_API_KEY\")"
   ]
  },
  {
   "cell_type": "code",
   "execution_count": 12,
   "metadata": {},
   "outputs": [],
   "source": [
    "# provide the path of  pdf file/files.\n",
    "pdfreader = PdfReader('7.pdf')"
   ]
  },
  {
   "cell_type": "code",
   "execution_count": 13,
   "metadata": {},
   "outputs": [],
   "source": [
    "from typing_extensions import Concatenate\n",
    "# read text from pdf\n",
    "raw_text = ''\n",
    "for i, page in enumerate(pdfreader.pages):\n",
    "    content = page.extract_text()\n",
    "    if content:\n",
    "        raw_text += content"
   ]
  },
  {
   "cell_type": "code",
   "execution_count": 14,
   "metadata": {},
   "outputs": [
    {
     "data": {
      "text/plain": [
       "'Muhammad Fauzan Bin Abdul Hakim   \\n No. 700, Jalan Hj. Buyong Bodeen,   \\nKg. Tersusun Sengat, 31300,   \\nKg. Kepayang,   \\nPerak, Malaysia.   \\nI.C. No:  940418 -08-5241  Age: 29  \\nMobile No: +6 013 -9141265  Language:  Malay  :  \\nEmail:  fauzan.abdhakim@gmail.com                      English:  \\n \\nOBJECTIVE  \\nTo contribute to the field of Electronic Engineering and work for organizations that will further it  \\nsupport, motivation, and a better work environment in a way that both benefits society and the \\ngrowth of technology.  \\n \\nFORMER EDUCATIO N \\n2023 BACHELOR OF ELECTRONICS \\nENGINEERING WITH HONOURS  \\nUniversiti Teknikal Malaysia Melaka  \\nCurrent CGPA: 3.66/4.00  \\n2016  DIPLOMA IN ELECTR ONICS \\n(Robotics & Automation) \\nMARA-Japan Indus trial Institute, \\nCGPA: 3.73/4.00  \\n2016  MALAYSIAN SKILLS DIPLOMA  \\n(Electronic Product Development) \\nAccreditation of Prior Skills \\nAchievement. (PPT) \\nDepartment of Skills Development, \\nMalaysia. \\nPROFESSIONAL CERTIFICATES  \\n2019  CERTIFIED EXPERT CRAFTSMAN IN \\nPLC \\nCertificate by SHRDC  for expertise \\nin design ing, improv ing, and \\ntroubleshoot ing advanced PLC \\nprogramming . Technical skills are \\nincluding design ing electrical \\nmotor control system s, electro \\nfluid power , and CAD.  \\n2015  CERTIFIED IPC TRAINER  \\n(IPC 7711 / 7721)  \\nIPC 7711/7721 refers to the \\nstandard for Rework, \\nModification , and Repair of \\nElectronic Assemblies developed by the Association of Connecting \\nElectronics Industries  (IPC).   \\nTECHNICAL SKILLS  \\n1 SOFTWARE /AI DEVELOPMENT   \\n Software Use:  \\nLanguage  Use: \\nLibraries Use:  MatLab, PyCharm  \\nPython, XML  \\nTensorFlow, To rch \\n2 MOBILE APPS DEVELOPMENT  \\n Software Use:  \\nLanguage  Use: Android Studio  \\nJAVA, C++, XML \\n3 CIRCUIT DEVELOPMENT & SIMULATION  \\n Software Use:  Proteus ISIS, Multisim  \\n4 PCB Design  \\n Software Use:  Altium Designer, Proteus \\nARES, Autodesk Eagle  \\n5 MICROCONTROLLER/ MICROPROCESSOR \\nPROGRAMMING  \\n Software Use:  \\n \\nLanguage  Use: MPLAB, MPLABX, \\nSTM32Cube IDE, Arduino  \\nC, C++  \\n6 PLC/HMI PROGRAMMING  \\n Software Use:  FPWIN, CX -Programmer, \\nGX-Developer, TIA Portal  \\n7 CAD DESIGN  \\n Software Use:  Autodesk AutoCAD, \\nSolidWorks  \\n8 FAULT FINDING & REPAIR  \\n Standard Use:  IPC 7711 / 7721  \\n9 ELECTRONICS ASSEMBLY  \\n Standard Use:  IPC 610  \\n  \\nPROJECT DEVELOPED  \\nArtificial \\nIntelligence  Malaysian Sign Language Recognition using CNN  \\nDuration: 9 months  \\nThe d eaf community uses sign language to communicate with others. This project \\ndeveloped software that uses image processing techniques and a Deep Learning algorithm \\nto predict real -time static sign language gestures.  \\nEnzyme Thermostability Prediction using LSTM  \\nDuration: 3 months  \\nPrediction of protein thermostability is important in enzyme engineering. This project uses \\nOne-Hot Encoding and Deep Learning Algorithm to predict the protein thermostability \\nbased on its protein sequence and pH value.  \\nSemantic Segmentation on Cili -Padi Fertigation Image using Transfer Learning  \\nDuration: 3 months  \\nChili -Picking Robot needs to identify various elements in a farm before it can pick chilies. \\nThis project uses Semantic Segmentation and Transfer Learning approach to classify \\nelements in images taken by the robot.  \\nElectrical/ \\nElectronics \\nSystem  Heat Sealing Machine for Medical Device using Electropneumatic and PLC  \\nDuration: 6 months  \\nAn industry requires mass production of a medical device with high -precision plastic \\nsealing. This project developed a semi- automated industrial machine to perform heat \\nsealing on a medical device using a PID temperature controller, PLC, and electro -pneumatic  \\nsystem.  \\nLow -Cost Optical Fiber Tapering Machine using Raspberry Pi  \\nDuration: 1  month  \\nA tapered optical fiber can be produced by gently stretching an optical fiber  while it is \\nheated, such that the glass becomes soft. This project used a low -cost Raspberry Pi system \\nwith HMI to control the process of tapering the optical fiber.  \\nLow -Cost Quadrature Oscillator based Function Generator  \\nDuration: 3 months  \\nThis pro ject developed a low -cost, low -accuracy function generator with 500 -2500 Hz \\nfrequency and gain control for sine, cosine, sawtooth, and square waves provided by a \\nQuadrature Oscillator.  \\nIoT System  Motor Pump Maintenance Monitoring Design Using IoT System  \\nDuration: 4 months  \\nMonitoring and controlling the motor pump at the dam becomes a challenge during the \\nCOVID -19 lockdown. This project developed a mobile application to monitor and control \\nthe motor in real -time without being at the dam site. \\nData Acquisition for FMU40 Sensor using HART and Low -Cost IoT System  \\nDuration: 3  months  \\nThe software to acquire the measured tank level of the FMU40 sensor is expensive. This \\nproject developed an embedded system that can decode a HART Protocol and send the \\ndata to the cloud using a low -cost IoT system.  \\nRapid Prototyping System for IoT Device using CAN Bus Protocol  \\nDuration: 1  month  \\nDifferent IoT applications require different sensors to be connected to the cloud. This \\nproject prov ides a system that can easily connect and disconnect various sensors to the \\ninternet without resetting the entire system using a CAN Bus Protocol.  WORKING EXPERIENCE  \\nNt Automation & Design Sdn.Bhd.  \\nTechnical Specialist & Assistant Engineer [Robotics & Automation]  \\n(July 2021 –  October 2022)  \\n• Manage materials, scheduling, and manpower for projects.  \\n• Support in designing and assembling electrical systems for automation machinery. \\n• Support in designing and implementing software systems (PLC) for automation machinery.  \\n• Support in designing and assembling CAD models for machinery parts. \\n• Write technical reports for new products.  \\n• Collect data and present the efficiency of new products. \\n• Provide support for clients  in the design and application of new products.  \\n \\nMurata Electronics (Malaysia) Sdn. Bhd.  \\nTechnician Maintenance  \\n(August 2017 –  April 2018)  \\n• Performed machine breakdown and scheduled maintenance.  \\n• Support production process and setup.  \\n• Design and implement kaizen  (improvement) related to the machine.  \\n• Write technical reports concerning the effectiveness of any improvement.  \\nTechnical Specialist & Assistant Engineer [Electrical & Programming]  \\n(April 2018 –  September 2018)  \\n• Support major brea kdown investigation and maintenance related to electrical and programming.  \\n• Design and implement kaizen (improvement) related to electrical and programming PLC. \\n• Write technical reports concerning the effectiveness of any improvement.  \\n• Support engineer in the implementation of engineer’s projects.  \\n• Collect data and present the efficiency of new improvements.  \\n• Write a technical report about major breakdown involving root cause, maintenance,  \\nand countermeasure actions/designs. \\n Department of Skills Development Malaysia  \\nNational Electronics Trainer \\n(January 2016 - September 2016)  \\n• Execute training modules/plans developed by National Electronics Experts.  \\n• Prepare and train national competitors in electronics theory and technical skills.  \\n• Develop test projects to evaluate competitors’ performance.  \\n• Collect and evaluate data on competitors’ performance.  \\n• Present and plan strategy on improving competitor’s performance.  \\nPARTICIPATIONS \\n2022  WorldSkills MALAYSIA BELIA   \\n(WSMB)  \\nJury \\nTest Project Developer  2015  WorldSkills COMPETITION (WSC),  \\nSAO PAULO, Brazil  \\nMalaysia Competitor  \\n(Medallion for Excellence)  \\n2018  WorldSkills YOUTH FORUM  \\nABU DHABI, UAE  \\nParticipant  2014  ASEANSKILLS COMPETITION (ASC),  \\nHANOI, Vietnam  \\nMalaysia Competitor  \\n(Medallion for Excellence)  \\n2017  WorldSkills MALAYSIA BELIA   \\n(WSMB)  \\nTest Project Developer  2013  MALAYSIAN SKILLS COMPETITION  \\n(PKM)  \\nMARA Competitor  \\n(Certificate of Participation)  \\n2016  ASEANSKILLS COMPETITION (ASC),  \\nKUALA LUMPUR, Malaysia  \\nMalaysia Trainer & Interpreter  \\n(2 Gold Medals)    REFERE NCES  \\nAssoc. Prof. Dr. Masrullizam Bin  Mat Ibrahim  \\nDean  \\nFaculty of Electronics and Computer Engineering  \\nUniversity of Technical Malaysia, M elaka.  \\nmasrullizam @utem.edu.my  \\n+6 0 19-727 1781  Dr. Ismail Bin Adam  \\nMalaysia Electronics Expert  \\nDepartment of Skills Development Malaysia  \\ni.adam.mlk@gmail.com  \\n+6 012-973 4276 \\nAhmad Junaidi Bin Ahmad Jawawi  \\nApplication Engineer  \\nNt Automation & Design Sdn.Bhd.  \\njunaidi@newtech -automation.com  \\n+6 012-914 0083  Muhammad Haziq Farhan Bin Husni  \\nTechnician Leader  \\nRF Process Department  \\nMurata Electronics (Malaysia)  \\nhaziqfarhan337@yahoo.com  \\n+6 012 -282 5337  \\n '"
      ]
     },
     "execution_count": 14,
     "metadata": {},
     "output_type": "execute_result"
    }
   ],
   "source": [
    "raw_text"
   ]
  },
  {
   "cell_type": "markdown",
   "metadata": {},
   "source": []
  },
  {
   "cell_type": "code",
   "execution_count": 15,
   "metadata": {},
   "outputs": [],
   "source": [
    "# We need to split the text using Character Text Split such that it sshould not increse token size\n",
    "text_splitter = CharacterTextSplitter(\n",
    "    separator = \"\\n\",\n",
    "    chunk_size = 800,\n",
    "    chunk_overlap  = 200,\n",
    "    length_function = len,\n",
    ")\n",
    "texts = text_splitter.split_text(raw_text)"
   ]
  },
  {
   "cell_type": "code",
   "execution_count": 16,
   "metadata": {},
   "outputs": [
    {
     "name": "stdout",
     "output_type": "stream",
     "text": [
      "['Muhammad Fauzan Bin Abdul Hakim   \\n No. 700, Jalan Hj. Buyong Bodeen,   \\nKg. Tersusun Sengat, 31300,   \\nKg. Kepayang,   \\nPerak, Malaysia.   \\nI.C. No:  940418 -08-5241  Age: 29  \\nMobile No: +6 013 -9141265  Language:  Malay  :  \\nEmail:  fauzan.abdhakim@gmail.com                      English:  \\n \\nOBJECTIVE  \\nTo contribute to the field of Electronic Engineering and work for organizations that will further it  \\nsupport, motivation, and a better work environment in a way that both benefits society and the \\ngrowth of technology.  \\n \\nFORMER EDUCATIO N \\n2023 BACHELOR OF ELECTRONICS \\nENGINEERING WITH HONOURS  \\nUniversiti Teknikal Malaysia Melaka  \\nCurrent CGPA: 3.66/4.00  \\n2016  DIPLOMA IN ELECTR ONICS \\n(Robotics & Automation) \\nMARA-Japan Indus trial Institute, \\nCGPA: 3.73/4.00', 'ENGINEERING WITH HONOURS  \\nUniversiti Teknikal Malaysia Melaka  \\nCurrent CGPA: 3.66/4.00  \\n2016  DIPLOMA IN ELECTR ONICS \\n(Robotics & Automation) \\nMARA-Japan Indus trial Institute, \\nCGPA: 3.73/4.00  \\n2016  MALAYSIAN SKILLS DIPLOMA  \\n(Electronic Product Development) \\nAccreditation of Prior Skills \\nAchievement. (PPT) \\nDepartment of Skills Development, \\nMalaysia. \\nPROFESSIONAL CERTIFICATES  \\n2019  CERTIFIED EXPERT CRAFTSMAN IN \\nPLC \\nCertificate by SHRDC  for expertise \\nin design ing, improv ing, and \\ntroubleshoot ing advanced PLC \\nprogramming . Technical skills are \\nincluding design ing electrical \\nmotor control system s, electro \\nfluid power , and CAD.  \\n2015  CERTIFIED IPC TRAINER  \\n(IPC 7711 / 7721)  \\nIPC 7711/7721 refers to the \\nstandard for Rework, \\nModification , and Repair of', 'motor control system s, electro \\nfluid power , and CAD.  \\n2015  CERTIFIED IPC TRAINER  \\n(IPC 7711 / 7721)  \\nIPC 7711/7721 refers to the \\nstandard for Rework, \\nModification , and Repair of \\nElectronic Assemblies developed by the Association of Connecting \\nElectronics Industries  (IPC).   \\nTECHNICAL SKILLS  \\n1 SOFTWARE /AI DEVELOPMENT   \\n Software Use:  \\nLanguage  Use: \\nLibraries Use:  MatLab, PyCharm  \\nPython, XML  \\nTensorFlow, To rch \\n2 MOBILE APPS DEVELOPMENT  \\n Software Use:  \\nLanguage  Use: Android Studio  \\nJAVA, C++, XML \\n3 CIRCUIT DEVELOPMENT & SIMULATION  \\n Software Use:  Proteus ISIS, Multisim  \\n4 PCB Design  \\n Software Use:  Altium Designer, Proteus \\nARES, Autodesk Eagle  \\n5 MICROCONTROLLER/ MICROPROCESSOR \\nPROGRAMMING  \\n Software Use:  \\n \\nLanguage  Use: MPLAB, MPLABX,', '4 PCB Design  \\n Software Use:  Altium Designer, Proteus \\nARES, Autodesk Eagle  \\n5 MICROCONTROLLER/ MICROPROCESSOR \\nPROGRAMMING  \\n Software Use:  \\n \\nLanguage  Use: MPLAB, MPLABX, \\nSTM32Cube IDE, Arduino  \\nC, C++  \\n6 PLC/HMI PROGRAMMING  \\n Software Use:  FPWIN, CX -Programmer, \\nGX-Developer, TIA Portal  \\n7 CAD DESIGN  \\n Software Use:  Autodesk AutoCAD, \\nSolidWorks  \\n8 FAULT FINDING & REPAIR  \\n Standard Use:  IPC 7711 / 7721  \\n9 ELECTRONICS ASSEMBLY  \\n Standard Use:  IPC 610  \\n  \\nPROJECT DEVELOPED  \\nArtificial \\nIntelligence  Malaysian Sign Language Recognition using CNN  \\nDuration: 9 months  \\nThe d eaf community uses sign language to communicate with others. This project \\ndeveloped software that uses image processing techniques and a Deep Learning algorithm', 'Duration: 9 months  \\nThe d eaf community uses sign language to communicate with others. This project \\ndeveloped software that uses image processing techniques and a Deep Learning algorithm \\nto predict real -time static sign language gestures.  \\nEnzyme Thermostability Prediction using LSTM  \\nDuration: 3 months  \\nPrediction of protein thermostability is important in enzyme engineering. This project uses \\nOne-Hot Encoding and Deep Learning Algorithm to predict the protein thermostability \\nbased on its protein sequence and pH value.  \\nSemantic Segmentation on Cili -Padi Fertigation Image using Transfer Learning  \\nDuration: 3 months  \\nChili -Picking Robot needs to identify various elements in a farm before it can pick chilies.', 'Semantic Segmentation on Cili -Padi Fertigation Image using Transfer Learning  \\nDuration: 3 months  \\nChili -Picking Robot needs to identify various elements in a farm before it can pick chilies. \\nThis project uses Semantic Segmentation and Transfer Learning approach to classify \\nelements in images taken by the robot.  \\nElectrical/ \\nElectronics \\nSystem  Heat Sealing Machine for Medical Device using Electropneumatic and PLC  \\nDuration: 6 months  \\nAn industry requires mass production of a medical device with high -precision plastic \\nsealing. This project developed a semi- automated industrial machine to perform heat \\nsealing on a medical device using a PID temperature controller, PLC, and electro -pneumatic  \\nsystem.  \\nLow -Cost Optical Fiber Tapering Machine using Raspberry Pi', 'sealing on a medical device using a PID temperature controller, PLC, and electro -pneumatic  \\nsystem.  \\nLow -Cost Optical Fiber Tapering Machine using Raspberry Pi  \\nDuration: 1  month  \\nA tapered optical fiber can be produced by gently stretching an optical fiber  while it is \\nheated, such that the glass becomes soft. This project used a low -cost Raspberry Pi system \\nwith HMI to control the process of tapering the optical fiber.  \\nLow -Cost Quadrature Oscillator based Function Generator  \\nDuration: 3 months  \\nThis pro ject developed a low -cost, low -accuracy function generator with 500 -2500 Hz \\nfrequency and gain control for sine, cosine, sawtooth, and square waves provided by a \\nQuadrature Oscillator.  \\nIoT System  Motor Pump Maintenance Monitoring Design Using IoT System', 'frequency and gain control for sine, cosine, sawtooth, and square waves provided by a \\nQuadrature Oscillator.  \\nIoT System  Motor Pump Maintenance Monitoring Design Using IoT System  \\nDuration: 4 months  \\nMonitoring and controlling the motor pump at the dam becomes a challenge during the \\nCOVID -19 lockdown. This project developed a mobile application to monitor and control \\nthe motor in real -time without being at the dam site. \\nData Acquisition for FMU40 Sensor using HART and Low -Cost IoT System  \\nDuration: 3  months  \\nThe software to acquire the measured tank level of the FMU40 sensor is expensive. This \\nproject developed an embedded system that can decode a HART Protocol and send the \\ndata to the cloud using a low -cost IoT system.', 'project developed an embedded system that can decode a HART Protocol and send the \\ndata to the cloud using a low -cost IoT system.  \\nRapid Prototyping System for IoT Device using CAN Bus Protocol  \\nDuration: 1  month  \\nDifferent IoT applications require different sensors to be connected to the cloud. This \\nproject prov ides a system that can easily connect and disconnect various sensors to the \\ninternet without resetting the entire system using a CAN Bus Protocol.  WORKING EXPERIENCE  \\nNt Automation & Design Sdn.Bhd.  \\nTechnical Specialist & Assistant Engineer [Robotics & Automation]  \\n(July 2021 –  October 2022)  \\n• Manage materials, scheduling, and manpower for projects.  \\n• Support in designing and assembling electrical systems for automation machinery.', '(July 2021 –  October 2022)  \\n• Manage materials, scheduling, and manpower for projects.  \\n• Support in designing and assembling electrical systems for automation machinery. \\n• Support in designing and implementing software systems (PLC) for automation machinery.  \\n• Support in designing and assembling CAD models for machinery parts. \\n• Write technical reports for new products.  \\n• Collect data and present the efficiency of new products. \\n• Provide support for clients  in the design and application of new products.  \\n \\nMurata Electronics (Malaysia) Sdn. Bhd.  \\nTechnician Maintenance  \\n(August 2017 –  April 2018)  \\n• Performed machine breakdown and scheduled maintenance.  \\n• Support production process and setup.  \\n• Design and implement kaizen  (improvement) related to the machine.', '• Performed machine breakdown and scheduled maintenance.  \\n• Support production process and setup.  \\n• Design and implement kaizen  (improvement) related to the machine.  \\n• Write technical reports concerning the effectiveness of any improvement.  \\nTechnical Specialist & Assistant Engineer [Electrical & Programming]  \\n(April 2018 –  September 2018)  \\n• Support major brea kdown investigation and maintenance related to electrical and programming.  \\n• Design and implement kaizen (improvement) related to electrical and programming PLC. \\n• Write technical reports concerning the effectiveness of any improvement.  \\n• Support engineer in the implementation of engineer’s projects.  \\n• Collect data and present the efficiency of new improvements.', '• Support engineer in the implementation of engineer’s projects.  \\n• Collect data and present the efficiency of new improvements.  \\n• Write a technical report about major breakdown involving root cause, maintenance,  \\nand countermeasure actions/designs. \\n Department of Skills Development Malaysia  \\nNational Electronics Trainer \\n(January 2016 - September 2016)  \\n• Execute training modules/plans developed by National Electronics Experts.  \\n• Prepare and train national competitors in electronics theory and technical skills.  \\n• Develop test projects to evaluate competitors’ performance.  \\n• Collect and evaluate data on competitors’ performance.  \\n• Present and plan strategy on improving competitor’s performance.  \\nPARTICIPATIONS \\n2022  WorldSkills MALAYSIA BELIA   \\n(WSMB)  \\nJury', '• Collect and evaluate data on competitors’ performance.  \\n• Present and plan strategy on improving competitor’s performance.  \\nPARTICIPATIONS \\n2022  WorldSkills MALAYSIA BELIA   \\n(WSMB)  \\nJury \\nTest Project Developer  2015  WorldSkills COMPETITION (WSC),  \\nSAO PAULO, Brazil  \\nMalaysia Competitor  \\n(Medallion for Excellence)  \\n2018  WorldSkills YOUTH FORUM  \\nABU DHABI, UAE  \\nParticipant  2014  ASEANSKILLS COMPETITION (ASC),  \\nHANOI, Vietnam  \\nMalaysia Competitor  \\n(Medallion for Excellence)  \\n2017  WorldSkills MALAYSIA BELIA   \\n(WSMB)  \\nTest Project Developer  2013  MALAYSIAN SKILLS COMPETITION  \\n(PKM)  \\nMARA Competitor  \\n(Certificate of Participation)  \\n2016  ASEANSKILLS COMPETITION (ASC),  \\nKUALA LUMPUR, Malaysia  \\nMalaysia Trainer & Interpreter  \\n(2 Gold Medals)    REFERE NCES', '(PKM)  \\nMARA Competitor  \\n(Certificate of Participation)  \\n2016  ASEANSKILLS COMPETITION (ASC),  \\nKUALA LUMPUR, Malaysia  \\nMalaysia Trainer & Interpreter  \\n(2 Gold Medals)    REFERE NCES  \\nAssoc. Prof. Dr. Masrullizam Bin  Mat Ibrahim  \\nDean  \\nFaculty of Electronics and Computer Engineering  \\nUniversity of Technical Malaysia, M elaka.  \\nmasrullizam @utem.edu.my  \\n+6 0 19-727 1781  Dr. Ismail Bin Adam  \\nMalaysia Electronics Expert  \\nDepartment of Skills Development Malaysia  \\ni.adam.mlk@gmail.com  \\n+6 012-973 4276 \\nAhmad Junaidi Bin Ahmad Jawawi  \\nApplication Engineer  \\nNt Automation & Design Sdn.Bhd.  \\njunaidi@newtech -automation.com  \\n+6 012-914 0083  Muhammad Haziq Farhan Bin Husni  \\nTechnician Leader  \\nRF Process Department  \\nMurata Electronics (Malaysia)  \\nhaziqfarhan337@yahoo.com', 'junaidi@newtech -automation.com  \\n+6 012-914 0083  Muhammad Haziq Farhan Bin Husni  \\nTechnician Leader  \\nRF Process Department  \\nMurata Electronics (Malaysia)  \\nhaziqfarhan337@yahoo.com  \\n+6 012 -282 5337']\n"
     ]
    }
   ],
   "source": [
    "print(texts)"
   ]
  },
  {
   "cell_type": "code",
   "execution_count": 17,
   "metadata": {},
   "outputs": [
    {
     "name": "stdout",
     "output_type": "stream",
     "text": [
      "{\n",
      "    \"Full Name\": \"Muhammad Fauzan Bin Abdul Hakim\",\n",
      "    \"Email Id\": \"fauzan.abdhakim@gmail.com\",\n",
      "    \"Phone\": \"+6 013-9141265\",\n",
      "    \"Github Portfolio\": null,\n",
      "    \"Linkedin Id\": null,\n",
      "    \"Employment Details\": [\n",
      "        {\n",
      "            \"Company\": \"Nt Automation & Design Sdn.Bhd.\",\n",
      "            \"Position\": \"Technical Specialist & Assistant Engineer [Robotics & Automation]\",\n",
      "            \"Duration\": \"(July 2021 – October 2022)\",\n",
      "            \"Responsibilities\": [\n",
      "                \"Manage materials, scheduling, and manpower for projects.\",\n",
      "                \"Support in designing and assembling electrical systems for automation machinery.\",\n",
      "                \"Support in designing and implementing software systems (PLC) for automation machinery.\",\n",
      "                \"Support in designing and assembling CAD models for machinery parts.\",\n",
      "                \"Write technical reports for new products.\",\n",
      "                \"Collect data and present the efficiency of new products.\",\n",
      "                \"Provide support for clients in the design and application of new products.\"\n",
      "            ]\n",
      "        },\n",
      "        {\n",
      "            \"Company\": \"Murata Electronics (Malaysia) Sdn. Bhd.\",\n",
      "            \"Position\": \"Technician Maintenance\",\n",
      "            \"Duration\": \"(August 2017 – April 2018)\",\n",
      "            \"Responsibilities\": [\n",
      "                \"Performed machine breakdown and scheduled maintenance.\",\n",
      "                \"Support production process and setup.\",\n",
      "                \"Design and implement kaizen (improvement) related to the machine.\"\n",
      "            ]\n",
      "        },\n",
      "        {\n",
      "            \"Company\": \"Murata Electronics (Malaysia) Sdn. Bhd.\",\n",
      "            \"Position\": \"Technical Specialist & Assistant Engineer [Electrical & Programming]\",\n",
      "            \"Duration\": \"(April 2018 – September 2018)\",\n",
      "            \"Responsibilities\": [\n",
      "                \"Support major breakdown investigation and maintenance related to electrical and programming.\",\n",
      "                \"Design and implement kaizen (improvement) related to electrical and programming PLC.\",\n",
      "                \"Support engineer in the implementation of engineer’s projects.\",\n",
      "                \"Collect data and present the efficiency of new improvements.\",\n",
      "                \"Write a technical report about major breakdown involving root cause, maintenance, and countermeasure actions/designs.\"\n",
      "            ]\n",
      "        },\n",
      "        {\n",
      "            \"Company\": \"Department of Skills Development Malaysia\",\n",
      "            \"Position\": \"National Electronics Trainer\",\n",
      "            \"Duration\": \"(January 2016 - September 2016)\",\n",
      "            \"Responsibilities\": [\n",
      "                \"Execute training modules/plans developed by National Electronics Experts.\",\n",
      "                \"Prepare and train national competitors in electronics theory and technical skills.\",\n",
      "                \"Develop test projects to evaluate competitors’ performance.\",\n",
      "                \"Collect and evaluate data on competitors’ performance.\",\n",
      "                \"Present and plan strategy on improving competitor’s performance.\"\n",
      "            ]\n",
      "        }\n",
      "    ],\n",
      "    \"Technical Skills\": [\n",
      "        \"MatLab\",\n",
      "        \"PyCharm\",\n",
      "        \"Python\",\n",
      "        \"XML\",\n",
      "        \"TensorFlow\",\n",
      "        \"Torch\",\n",
      "        \"Android Studio\",\n",
      "        \"JAVA\",\n",
      "        \"C++\",\n",
      "        \"Proteus ISIS\",\n",
      "        \"Multisim\",\n",
      "        \"Altium Designer\",\n",
      "        \"Proteus ARES\",\n",
      "        \"Autodesk Eagle\",\n",
      "        \"MPLAB\",\n",
      "        \"MPLABX\",\n",
      "        \"STM32Cube IDE\",\n",
      "        \"Arduino\",\n",
      "        \"FPWIN\",\n",
      "        \"CX-Programmer\",\n",
      "        \"GX-Developer\",\n",
      "        \"TIA Portal\",\n",
      "        \"Autodesk AutoCAD\",\n",
      "        \"SolidWorks\"\n",
      "    ],\n",
      "    \"Soft Skills\": null,\n",
      "    \"Certification\": [\n",
      "        \"Certified Expert Craftsman in PLC\",\n",
      "        \"Certified IPC Trainer (IPC 7711 / 7721)\"\n",
      "    ],\n",
      "    \"Publication\": [\n",
      "        \"Malaysian Sign Language Recognition using CNN\",\n",
      "        \"Enzyme Thermostability Prediction using LSTM\",\n",
      "        \"Semantic Segmentation on Cili-Padi Fertigation Image using Transfer Learning\",\n",
      "        \"Electrical/Electronics System Heat Sealing Machine for Medical Device using Electropneumatic and PLC\",\n",
      "        \"Low-Cost Optical Fiber Tapering Machine using Raspberry Pi\",\n",
      "        \"Low-Cost Quadrature Oscillator based Function Generator\",\n",
      "        \"IoT System Motor Pump Maintenance Monitoring Design Using IoT System\",\n",
      "        \"Data Acquisition for FMU40 Sensor using HART and Low-Cost IoT System\",\n",
      "        \"Rapid Prototyping System for IoT Device using CAN Bus Protocol\"\n",
      "    ]\n",
      "}\n"
     ]
    }
   ],
   "source": [
    "\n",
    "#langchain dependencies\n",
    "from langchain_openai import ChatOpenAI\n",
    "from langchain_core.prompts import ChatPromptTemplate\n",
    "from langchain_core.output_parsers import StrOutputParser\n",
    "\n",
    "#prompt template\n",
    "from langchain_core.prompts import ChatPromptTemplate\n",
    "\n",
    "prompt=ChatPromptTemplate.from_messages(\n",
    "    [(\"system\", '''You are an AI bot designed to act as a professional for parsing resumes. You are given with resume and your job is to extract the following information from the resume:\n",
    "    1. Full Name\n",
    "    2. Email Id\n",
    "    3. Phone\n",
    "    4. Github Portfolio\n",
    "    5. Linkedin Id\n",
    "    6. Education Details\n",
    "    7. Employment Details\n",
    "    8. Technical Skills\n",
    "    9. Soft Skills\n",
    "    10. Certifications\n",
    "    11. Publications\n",
    "    Give the extracted information in json format only'''),\n",
    "    (\"user\", \"Content:{content}\")\n",
    "    ]\n",
    ")\n",
    "    \n",
    "#OpenAI LLM\n",
    "llm=ChatOpenAI(model=\"gpt-3.5-turbo\")\n",
    "output_parser = StrOutputParser()\n",
    "chain=prompt|llm|output_parser\n",
    "\n",
    "print (chain.invoke({'content': texts}))\n"
   ]
  }
 ],
 "metadata": {
  "kernelspec": {
   "display_name": "Python 3",
   "language": "python",
   "name": "python3"
  },
  "language_info": {
   "codemirror_mode": {
    "name": "ipython",
    "version": 3
   },
   "file_extension": ".py",
   "mimetype": "text/x-python",
   "name": "python",
   "nbconvert_exporter": "python",
   "pygments_lexer": "ipython3",
   "version": "3.12.5"
  }
 },
 "nbformat": 4,
 "nbformat_minor": 2
}
